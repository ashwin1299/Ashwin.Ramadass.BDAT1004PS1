{
 "cells": [
  {
   "cell_type": "markdown",
   "id": "322d3524",
   "metadata": {},
   "source": [
    "1)Question C#"
   ]
  },
  {
   "cell_type": "code",
   "execution_count": 78,
   "id": "01a4cbad",
   "metadata": {},
   "outputs": [
    {
     "name": "stdout",
     "output_type": "stream",
     "text": [
      "Data TYpe for 5 is System.Int32\n",
      "Data TYpe for 5.0 is System.Double\n",
      "Data TYpe for 5>1 is System.Boolean\n",
      "Data TYpe for '5' is System.Char\n",
      "Data TYpe for 5*2 is System.Int32\n",
      "Data TYpe for '5'*2 is System.Int32\n",
      "Data TYpe for '5'+'2' is System.Int32\n",
      "Data TYpe for 5/2 is System.Int32\n",
      "Data TYpe for 5%2 is System.Int32\n",
      "Data TYpe for 5==3 is System.Boolean\n",
      "Data TYpe for 22/7 is System.Int32\n"
     ]
    }
   ],
   "source": [
    "var j= 5;\n",
    "Console.WriteLine(\"Data TYpe for 5 is \"+j.GetType());\n",
    "\n",
    "var a= 5.0;\n",
    "Console.WriteLine(\"Data TYpe for 5.0 is \"+a.GetType());\n",
    "\n",
    "var b= 5>1;\n",
    "Console.WriteLine(\"Data TYpe for 5>1 is \"+b.GetType());\n",
    "\n",
    "var c= '5';\n",
    "Console.WriteLine(\"Data TYpe for '5' is \"+c.GetType());\n",
    "\n",
    "var d= 5*2;\n",
    "Console.WriteLine(\"Data TYpe for 5*2 is \"+d.GetType());\n",
    "\n",
    "var e= '5'*2;\n",
    "Console.WriteLine(\"Data TYpe for '5'*2 is \"+e.GetType());\n",
    "\n",
    "var f= '5'+'2';\n",
    "Console.WriteLine(\"Data TYpe for '5'+'2' is \"+f.GetType());\n",
    "\n",
    "var g= 5/2;\n",
    "Console.WriteLine(\"Data TYpe for 5/2 is \"+g.GetType());\n",
    "\n",
    "var h= 5%2;\n",
    "Console.WriteLine(\"Data TYpe for 5%2 is \"+h.GetType());\n",
    "\n",
    "var k= 5 == 3;\n",
    "Console.WriteLine(\"Data TYpe for 5==3 is \"+k.GetType());\n",
    "\n",
    "var x=22/7;\n",
    "Console.WriteLine(\"Data TYpe for 22/7 is \"+x.GetType());\n"
   ]
  },
  {
   "cell_type": "markdown",
   "id": "e8cc6157",
   "metadata": {},
   "source": [
    "2)Question c#"
   ]
  },
  {
   "cell_type": "code",
   "execution_count": 82,
   "id": "d94ad048",
   "metadata": {},
   "outputs": [
    {
     "name": "stdout",
     "output_type": "stream",
     "text": [
      "34\n",
      "Does string contain 'ice' as a substring? True\n",
      "Supercalifragilisticexpialidocious is the longest word\n",
      "The correct order is: Bartok, Bellini, Berlioz, Bernstein, Borodin, Brian, Buxtehude\n"
     ]
    }
   ],
   "source": [
    "int numberOfLetters = 0;\n",
    "foreach (char letter in \"Supercalifragilisticexpialidocious\")\n",
    "{\n",
    "numberOfLetters++;\n",
    "}\n",
    "Console.WriteLine(numberOfLetters);\n",
    "\n",
    "\n",
    "Boolean containsWordIce = \"Supercalifragilisticexpialidocious\".Contains(\"ice\");\n",
    "Console.WriteLine($\"Does string contain 'ice' as a substring? {containsWordIce}\");\n",
    "\n",
    "\n",
    "new string[] findWordLength={\"Supercalifragilisticexpialidocious\", \"Honorificabilitudinitatibus\",\n",
    "\"Bababadalgharaghtakamminarronnkonn\"};\n",
    "int maxLength=0;\n",
    "string lengthyWord=\"\";\n",
    "for (int i = 0; i < findWordLength.Length; i++)\n",
    "{\n",
    "if (maxLength<findWordLength[i].Length){\n",
    "maxLength = findWordLength[i].Length;\n",
    "lengthyWord = findWordLength[i];\n",
    "}\n",
    "}\n",
    "Console.WriteLine($\"{lengthyWord} is the longest word\");\n",
    "\n",
    "string[] Dict = new string[] {\"Berlioz\", \"Borodin\", \"Brian\", \"Bartok\", \"Bellini\", \"Buxtehude\", \"Bernstein\"};\n",
    "// StringComparer.Ordinal: order by Ascii values;\n",
    "// Reference:\n",
    "var orderedDict = Dict.OrderBy(item => item, StringComparer.Ordinal);\n",
    "Console.WriteLine(\"The correct order is: \"+string.Join(\", \", orderedDict));\n"
   ]
  },
  {
   "cell_type": "markdown",
   "id": "40c0db9b",
   "metadata": {},
   "source": [
    "3)Question C#"
   ]
  },
  {
   "cell_type": "code",
   "execution_count": 70,
   "id": "ea85ebd9",
   "metadata": {},
   "outputs": [
    {
     "name": "stdout",
     "output_type": "stream",
     "text": [
      "Enter the length of First side:2 \n",
      "Enter the length of Second side:2\n",
      "Enter the length of Third side:2\n",
      "The Area of the triangle is 1.7320508075688772\n"
     ]
    }
   ],
   "source": [
    "int a = Convert.ToInt32(Console.ReadLine());\n",
    "Console.WriteLine(\"Enter the length of First side:2 \");\n",
    "\n",
    "Console.WriteLine(\"Enter the length of Second side:2\");\n",
    "int b = Convert.ToInt32(Console.ReadLine());\n",
    "Console.WriteLine(\"Enter the length of Third side:2\");\n",
    "int c = Convert.ToInt32(Console.ReadLine());\n",
    "a=b=c=2;\n",
    "double s = (a + b + c) / 2;\n",
    "double area = Math.Sqrt(s * (s - a) * (s - b) * (s - c));\n",
    "Console.WriteLine($\"The Area of the triangle is {area}\");"
   ]
  },
  {
   "cell_type": "markdown",
   "id": "f9dc7ca7",
   "metadata": {},
   "source": [
    "5)Question C#"
   ]
  },
  {
   "cell_type": "code",
   "execution_count": 84,
   "id": "7c05fca2",
   "metadata": {},
   "outputs": [
    {
     "name": "stdout",
     "output_type": "stream",
     "text": [
      "Give the value of X :Give the value of Y : Give the value of X1 :Give the value of Y1 :Give the value of X2 : Give the value of Y2 : false\n",
      " No,The point does not lie in both the rectangles\n"
     ]
    }
   ],
   "source": [
    "Console.Write(\"Give the value of X :\");\n",
    "double x = Convert.ToDouble(Console.ReadLine());\n",
    "\n",
    "Console.Write(\"Give the value of Y : \");\n",
    "double y = Convert.ToDouble(Console.ReadLine());\n",
    "\n",
    "Console.Write(\"Give the value of X1 :\");\n",
    "double x1 = Convert.ToDouble(Console.ReadLine());\n",
    "\n",
    "Console.Write(\"Give the value of Y1 :\");\n",
    "double y1 = Convert.ToDouble(Console.ReadLine());\n",
    "\n",
    "Console.Write(\"Give the value of X2 : \");\n",
    "double x2 = Convert.ToDouble(Console.ReadLine());\n",
    "\n",
    "Console.Write(\"Give the value of Y2 : \");\n",
    "double y2 = Convert.ToDouble(Console.ReadLine());\n",
    "\n",
    "if (inside(x, y, x1, y1, x2, y2))\n",
    "Console.Write(\"The point lies inside the rectange: True\");\n",
    "\n",
    "else\n",
    "Console.Write(\"false\");\n",
    "if (inside(1, 1, 0.3, 0.5, 1.1, 0.7) && inside(1, 1, 0.5, 0.2, 1.1, 2))\n",
    "Console.Write(\"\\n The point lies in both the rectangles\");\n",
    "Console.WriteLine(\"\\n No,The point does not lie in both the rectangles\");\n",
    "static bool inside(double x, double y, double x1, double y1, double x2, double y2)\n",
    "{\n",
    "//if statement\n",
    "if (x > x1 && x < x2 && y > y1 && y < y2)\n",
    "return true;\n",
    "return false;\n",
    "}\n",
    "\n"
   ]
  },
  {
   "cell_type": "code",
   "execution_count": null,
   "id": "119345c3",
   "metadata": {},
   "outputs": [],
   "source": []
  }
 ],
 "metadata": {
  "kernelspec": {
   "display_name": ".NET (C#)",
   "language": "C#",
   "name": ".net-csharp"
  },
  "language_info": {
   "file_extension": ".cs",
   "mimetype": "text/x-csharp",
   "name": "C#",
   "pygments_lexer": "csharp",
   "version": "8.0"
  }
 },
 "nbformat": 4,
 "nbformat_minor": 5
}
