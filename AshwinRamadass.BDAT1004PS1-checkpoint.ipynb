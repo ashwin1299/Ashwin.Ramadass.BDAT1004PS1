{
 "cells": [
  {
   "cell_type": "markdown",
   "id": "217bee65",
   "metadata": {},
   "source": [
    "7)Question Python"
   ]
  },
  {
   "cell_type": "code",
   "execution_count": 19,
   "id": "410115a1",
   "metadata": {},
   "outputs": [
    {
     "ename": "SyntaxError",
     "evalue": "(unicode error) 'unicodeescape' codec can't decode bytes in position 3-4: truncated \\UXXXXXXXX escape (Temp/ipykernel_10156/2509011796.py, line 1)",
     "output_type": "error",
     "traceback": [
      "\u001b[1;36m  File \u001b[1;32m\"C:\\Users\\ashwi\\AppData\\Local\\Temp/ipykernel_10156/2509011796.py\"\u001b[1;36m, line \u001b[1;32m1\u001b[0m\n\u001b[1;33m    nfile=open('\"C:\\Users\\ashwi\\OneDrive\\Desktop\\bloodtype.txt\"','r')\u001b[0m\n\u001b[1;37m                                                                ^\u001b[0m\n\u001b[1;31mSyntaxError\u001b[0m\u001b[1;31m:\u001b[0m (unicode error) 'unicodeescape' codec can't decode bytes in position 3-4: truncated \\UXXXXXXXX escape\n"
     ]
    }
   ],
   "source": [
    "nfile=open('\"C:\\Users\\ashwi\\OneDrive\\Desktop\\bloodtype.txt\"','r')\n",
    "content= infile.read()\n",
    "infile.close()\n",
    "content=content.split()\n",
    "bloodtype = ['A','B','AB','O','OO']\n",
    "def bldcount(bloodtype):\n",
    "for i in bloodtype:\n",
    "if content.count(i)==0:\n",
    "print('There are no patients of blood type ',i,'.')\n",
    "else:\n",
    "print('There are ',content.count(i),'patients of blood type',i,'.')\n",
    "bldcount(bloodtype)"
   ]
  },
  {
   "cell_type": "markdown",
   "id": "7a1c12be",
   "metadata": {},
   "source": [
    "8)Question python"
   ]
  },
  {
   "cell_type": "code",
   "execution_count": 22,
   "id": "bc97e3b1",
   "metadata": {},
   "outputs": [
    {
     "ename": "SyntaxError",
     "evalue": "invalid syntax (Temp/ipykernel_10156/250656723.py, line 2)",
     "output_type": "error",
     "traceback": [
      "\u001b[1;36m  File \u001b[1;32m\"C:\\Users\\ashwi\\AppData\\Local\\Temp/ipykernel_10156/250656723.py\"\u001b[1;36m, line \u001b[1;32m2\u001b[0m\n\u001b[1;33m    amount = float(amount)curr_table = open(\"C:\\Users\\ashwi\\OneDrive\\Desktop\\currency.txt\",'r')curr_dict = {}\u001b[0m\n\u001b[1;37m                          ^\u001b[0m\n\u001b[1;31mSyntaxError\u001b[0m\u001b[1;31m:\u001b[0m invalid syntax\n"
     ]
    }
   ],
   "source": [
    "currency, amount = input(\"Enter the Currency Code and Amount :\\n\").split(\",\")\n",
    "amount = float(amount)curr_table = open(\"C:\\Users\\ashwi\\OneDrive\\Desktop\\currency.txt\",'r')curr_dict = {}\n",
    "for line in curr_table.readlines():\n",
    "line_elems = line.split()\n",
    "curr_dict[line_elems[0]] = float(line_elems[1])def curr_conv(curr,amt):\n",
    "amt_usd = amt * curr_dict[curr]\n",
    "print(\"\\n\")\n",
    "print(\"Converted Value (in USD) :\")\n",
    "print(amt_usd)curr_conv(currency,amount)\n"
   ]
  },
  {
   "cell_type": "markdown",
   "id": "5eee894b",
   "metadata": {},
   "source": [
    "9)Question python"
   ]
  },
  {
   "cell_type": "code",
   "execution_count": null,
   "id": "97a152c1",
   "metadata": {},
   "outputs": [],
   "source": []
  }
 ],
 "metadata": {
  "kernelspec": {
   "display_name": "Python 3 (ipykernel)",
   "language": "python",
   "name": "python3"
  },
  "language_info": {
   "codemirror_mode": {
    "name": "ipython",
    "version": 3
   },
   "file_extension": ".py",
   "mimetype": "text/x-python",
   "name": "python",
   "nbconvert_exporter": "python",
   "pygments_lexer": "ipython3",
   "version": "3.9.7"
  }
 },
 "nbformat": 4,
 "nbformat_minor": 5
}
